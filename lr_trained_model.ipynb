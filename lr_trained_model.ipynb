{
 "cells": [
  {
   "cell_type": "markdown",
   "id": "2f5af0b6-b3db-4e95-a9c6-08464d0b46c1",
   "metadata": {},
   "source": [
    "# IMPORTING LIBRARIES"
   ]
  },
  {
   "cell_type": "code",
   "execution_count": 1,
   "id": "095b54d6-4bc7-4e58-aea7-2447e7e39308",
   "metadata": {},
   "outputs": [],
   "source": [
    "import pandas as pd\n",
    "from sklearn.model_selection import train_test_split\n",
    "from sklearn.linear_model import LogisticRegression\n",
    "from sklearn.metrics import accuracy_score, precision_score, recall_score, f1_score\n",
    "import pickle"
   ]
  },
  {
   "cell_type": "markdown",
   "id": "2d4941c0-8711-4ba7-809a-ae1b389a3cf3",
   "metadata": {},
   "source": [
    "# GETTING DATA FROM DATASET"
   ]
  },
  {
   "cell_type": "code",
   "execution_count": 2,
   "id": "ed48421f-ce4a-467f-88b3-21ed1e8e7c96",
   "metadata": {},
   "outputs": [
    {
     "data": {
      "text/html": [
       "<div>\n",
       "<style scoped>\n",
       "    .dataframe tbody tr th:only-of-type {\n",
       "        vertical-align: middle;\n",
       "    }\n",
       "\n",
       "    .dataframe tbody tr th {\n",
       "        vertical-align: top;\n",
       "    }\n",
       "\n",
       "    .dataframe thead th {\n",
       "        text-align: right;\n",
       "    }\n",
       "</style>\n",
       "<table border=\"1\" class=\"dataframe\">\n",
       "  <thead>\n",
       "    <tr style=\"text-align: right;\">\n",
       "      <th></th>\n",
       "      <th>library</th>\n",
       "      <th>primary_school</th>\n",
       "      <th>secondary_school</th>\n",
       "      <th>college</th>\n",
       "      <th>atm</th>\n",
       "      <th>supermarket</th>\n",
       "      <th>panchayat_office</th>\n",
       "      <th>post_office</th>\n",
       "      <th>hospital</th>\n",
       "      <th>bus_stop</th>\n",
       "      <th>common_service_center</th>\n",
       "      <th>weighted_development_score</th>\n",
       "      <th>developed</th>\n",
       "    </tr>\n",
       "  </thead>\n",
       "  <tbody>\n",
       "    <tr>\n",
       "      <th>0</th>\n",
       "      <td>1</td>\n",
       "      <td>1</td>\n",
       "      <td>1</td>\n",
       "      <td>1</td>\n",
       "      <td>1</td>\n",
       "      <td>1</td>\n",
       "      <td>1</td>\n",
       "      <td>1</td>\n",
       "      <td>1</td>\n",
       "      <td>1</td>\n",
       "      <td>1</td>\n",
       "      <td>100.000000</td>\n",
       "      <td>1</td>\n",
       "    </tr>\n",
       "    <tr>\n",
       "      <th>1</th>\n",
       "      <td>0</td>\n",
       "      <td>0</td>\n",
       "      <td>0</td>\n",
       "      <td>1</td>\n",
       "      <td>1</td>\n",
       "      <td>1</td>\n",
       "      <td>0</td>\n",
       "      <td>0</td>\n",
       "      <td>1</td>\n",
       "      <td>1</td>\n",
       "      <td>1</td>\n",
       "      <td>52.941176</td>\n",
       "      <td>0</td>\n",
       "    </tr>\n",
       "    <tr>\n",
       "      <th>2</th>\n",
       "      <td>1</td>\n",
       "      <td>1</td>\n",
       "      <td>0</td>\n",
       "      <td>0</td>\n",
       "      <td>1</td>\n",
       "      <td>1</td>\n",
       "      <td>0</td>\n",
       "      <td>0</td>\n",
       "      <td>1</td>\n",
       "      <td>0</td>\n",
       "      <td>0</td>\n",
       "      <td>47.058824</td>\n",
       "      <td>0</td>\n",
       "    </tr>\n",
       "    <tr>\n",
       "      <th>3</th>\n",
       "      <td>1</td>\n",
       "      <td>1</td>\n",
       "      <td>1</td>\n",
       "      <td>1</td>\n",
       "      <td>1</td>\n",
       "      <td>1</td>\n",
       "      <td>1</td>\n",
       "      <td>1</td>\n",
       "      <td>1</td>\n",
       "      <td>1</td>\n",
       "      <td>1</td>\n",
       "      <td>100.000000</td>\n",
       "      <td>1</td>\n",
       "    </tr>\n",
       "    <tr>\n",
       "      <th>4</th>\n",
       "      <td>0</td>\n",
       "      <td>1</td>\n",
       "      <td>1</td>\n",
       "      <td>0</td>\n",
       "      <td>1</td>\n",
       "      <td>1</td>\n",
       "      <td>1</td>\n",
       "      <td>1</td>\n",
       "      <td>0</td>\n",
       "      <td>1</td>\n",
       "      <td>1</td>\n",
       "      <td>76.470588</td>\n",
       "      <td>1</td>\n",
       "    </tr>\n",
       "  </tbody>\n",
       "</table>\n",
       "</div>"
      ],
      "text/plain": [
       "   library  primary_school  secondary_school  college  atm  supermarket  \\\n",
       "0        1               1                 1        1    1            1   \n",
       "1        0               0                 0        1    1            1   \n",
       "2        1               1                 0        0    1            1   \n",
       "3        1               1                 1        1    1            1   \n",
       "4        0               1                 1        0    1            1   \n",
       "\n",
       "   panchayat_office  post_office  hospital  bus_stop  common_service_center  \\\n",
       "0                 1            1         1         1                      1   \n",
       "1                 0            0         1         1                      1   \n",
       "2                 0            0         1         0                      0   \n",
       "3                 1            1         1         1                      1   \n",
       "4                 1            1         0         1                      1   \n",
       "\n",
       "   weighted_development_score  developed  \n",
       "0                  100.000000          1  \n",
       "1                   52.941176          0  \n",
       "2                   47.058824          0  \n",
       "3                  100.000000          1  \n",
       "4                   76.470588          1  "
      ]
     },
     "execution_count": 2,
     "metadata": {},
     "output_type": "execute_result"
    }
   ],
   "source": [
    "dataset= pd.read_csv(\"Village_infras.csv\")\n",
    "dataset.head()"
   ]
  },
  {
   "cell_type": "markdown",
   "id": "f1aa5ecc-ee95-4147-aafb-ce3020fc413f",
   "metadata": {},
   "source": [
    "# SELECTING TARGET VARIABLE"
   ]
  },
  {
   "cell_type": "code",
   "execution_count": 3,
   "id": "374879e2-b8cb-4326-945d-b91db5461418",
   "metadata": {},
   "outputs": [],
   "source": [
    "X= dataset.drop(columns= [\"weighted_development_score\", \"developed\"])\n",
    "y= dataset[\"developed\"]"
   ]
  },
  {
   "cell_type": "markdown",
   "id": "1098c1e6-e5ed-4ed3-aa1d-c5f868550890",
   "metadata": {},
   "source": [
    "# SPLITTING TRAINING AND TESTING DATA"
   ]
  },
  {
   "cell_type": "code",
   "execution_count": 4,
   "id": "dc13a1df-3a3d-44bd-a1d8-439b7e4a3fa9",
   "metadata": {},
   "outputs": [],
   "source": [
    "import numpy as np\n",
    "noise_percentage = 0.05  \n",
    "X_noisy = X.copy()\n",
    "random_mask = np.random.rand(*X_noisy.shape)<noise_percentage\n",
    "\n",
    "# Flip 0s to 1s and 1s to 0s where the mask is True\n",
    "X_noisy = np.abs(X_noisy - random_mask.astype(int))\n",
    "\n",
    "# Split noisy data into train and test sets\n",
    "X_train_noisy, X_test_noisy, y_train_noisy, y_test_noisy = train_test_split(\n",
    "    X_noisy, y, test_size=0.2, random_state=42, stratify=y\n",
    ")"
   ]
  },
  {
   "cell_type": "code",
   "execution_count": 5,
   "id": "3f27e6c6-4444-4123-b293-b92cf1d116ba",
   "metadata": {},
   "outputs": [
    {
     "data": {
      "text/html": [
       "<div>\n",
       "<style scoped>\n",
       "    .dataframe tbody tr th:only-of-type {\n",
       "        vertical-align: middle;\n",
       "    }\n",
       "\n",
       "    .dataframe tbody tr th {\n",
       "        vertical-align: top;\n",
       "    }\n",
       "\n",
       "    .dataframe thead th {\n",
       "        text-align: right;\n",
       "    }\n",
       "</style>\n",
       "<table border=\"1\" class=\"dataframe\">\n",
       "  <thead>\n",
       "    <tr style=\"text-align: right;\">\n",
       "      <th></th>\n",
       "      <th>library</th>\n",
       "      <th>primary_school</th>\n",
       "      <th>secondary_school</th>\n",
       "      <th>college</th>\n",
       "      <th>atm</th>\n",
       "      <th>supermarket</th>\n",
       "      <th>panchayat_office</th>\n",
       "      <th>post_office</th>\n",
       "      <th>hospital</th>\n",
       "      <th>bus_stop</th>\n",
       "      <th>common_service_center</th>\n",
       "    </tr>\n",
       "  </thead>\n",
       "  <tbody>\n",
       "    <tr>\n",
       "      <th>988</th>\n",
       "      <td>1</td>\n",
       "      <td>1</td>\n",
       "      <td>0</td>\n",
       "      <td>0</td>\n",
       "      <td>0</td>\n",
       "      <td>1</td>\n",
       "      <td>1</td>\n",
       "      <td>0</td>\n",
       "      <td>0</td>\n",
       "      <td>0</td>\n",
       "      <td>0</td>\n",
       "    </tr>\n",
       "    <tr>\n",
       "      <th>6357</th>\n",
       "      <td>0</td>\n",
       "      <td>1</td>\n",
       "      <td>1</td>\n",
       "      <td>1</td>\n",
       "      <td>1</td>\n",
       "      <td>0</td>\n",
       "      <td>1</td>\n",
       "      <td>1</td>\n",
       "      <td>1</td>\n",
       "      <td>0</td>\n",
       "      <td>0</td>\n",
       "    </tr>\n",
       "    <tr>\n",
       "      <th>1947</th>\n",
       "      <td>1</td>\n",
       "      <td>0</td>\n",
       "      <td>1</td>\n",
       "      <td>1</td>\n",
       "      <td>1</td>\n",
       "      <td>0</td>\n",
       "      <td>0</td>\n",
       "      <td>0</td>\n",
       "      <td>0</td>\n",
       "      <td>0</td>\n",
       "      <td>0</td>\n",
       "    </tr>\n",
       "    <tr>\n",
       "      <th>12696</th>\n",
       "      <td>0</td>\n",
       "      <td>1</td>\n",
       "      <td>1</td>\n",
       "      <td>0</td>\n",
       "      <td>0</td>\n",
       "      <td>1</td>\n",
       "      <td>1</td>\n",
       "      <td>1</td>\n",
       "      <td>0</td>\n",
       "      <td>1</td>\n",
       "      <td>1</td>\n",
       "    </tr>\n",
       "    <tr>\n",
       "      <th>12694</th>\n",
       "      <td>0</td>\n",
       "      <td>0</td>\n",
       "      <td>1</td>\n",
       "      <td>1</td>\n",
       "      <td>0</td>\n",
       "      <td>1</td>\n",
       "      <td>0</td>\n",
       "      <td>0</td>\n",
       "      <td>1</td>\n",
       "      <td>0</td>\n",
       "      <td>1</td>\n",
       "    </tr>\n",
       "  </tbody>\n",
       "</table>\n",
       "</div>"
      ],
      "text/plain": [
       "       library  primary_school  secondary_school  college  atm  supermarket  \\\n",
       "988          1               1                 0        0    0            1   \n",
       "6357         0               1                 1        1    1            0   \n",
       "1947         1               0                 1        1    1            0   \n",
       "12696        0               1                 1        0    0            1   \n",
       "12694        0               0                 1        1    0            1   \n",
       "\n",
       "       panchayat_office  post_office  hospital  bus_stop  \\\n",
       "988                   1            0         0         0   \n",
       "6357                  1            1         1         0   \n",
       "1947                  0            0         0         0   \n",
       "12696                 1            1         0         1   \n",
       "12694                 0            0         1         0   \n",
       "\n",
       "       common_service_center  \n",
       "988                        0  \n",
       "6357                       0  \n",
       "1947                       0  \n",
       "12696                      1  \n",
       "12694                      1  "
      ]
     },
     "execution_count": 5,
     "metadata": {},
     "output_type": "execute_result"
    }
   ],
   "source": [
    "X_test_noisy.head()"
   ]
  },
  {
   "cell_type": "markdown",
   "id": "9d25762f-8837-4902-833b-f9252be147dc",
   "metadata": {},
   "source": [
    "# DEFINING, FITTING AND PREDICTING LOGISTIC REGRESSION MODEL"
   ]
  },
  {
   "cell_type": "code",
   "execution_count": 7,
   "id": "f80dbe26-4092-4239-aa64-830899e4fe08",
   "metadata": {},
   "outputs": [],
   "source": [
    "lr_model= LogisticRegression(max_iter=100, random_state=42)"
   ]
  },
  {
   "cell_type": "code",
   "execution_count": 9,
   "id": "dc8e9288-9a2b-4903-8891-6c46cb097336",
   "metadata": {},
   "outputs": [
    {
     "data": {
      "text/plain": [
       "array([0, 1, 0, ..., 0, 0, 0], dtype=int64)"
      ]
     },
     "execution_count": 9,
     "metadata": {},
     "output_type": "execute_result"
    }
   ],
   "source": [
    "lr_model.fit(X_train_noisy, y_train_noisy)\n",
    "lr_preds= lr_model.predict(X_test_noisy)\n",
    "lr_preds"
   ]
  },
  {
   "cell_type": "markdown",
   "id": "8e3992a6-7d0d-4482-a771-92ae6c48aaf5",
   "metadata": {},
   "source": [
    "# EVALUATING MODEL"
   ]
  },
  {
   "cell_type": "code",
   "execution_count": 11,
   "id": "7785aa2b-3c2f-46ec-a654-c883a95a0c30",
   "metadata": {},
   "outputs": [
    {
     "name": "stdout",
     "output_type": "stream",
     "text": [
      "Accuracy: 0.955\n",
      "Precision: 0.9326241134751773\n",
      "Recall: 0.9392857142857143\n",
      "F1 Score: 0.9359430604982206\n"
     ]
    }
   ],
   "source": [
    "accuracy = accuracy_score(y_test_noisy, lr_preds)\n",
    "precision = precision_score(y_test_noisy, lr_preds)\n",
    "recall = recall_score(y_test_noisy, lr_preds)\n",
    "f1 = f1_score(y_test_noisy, lr_preds)\n",
    "\n",
    "print(f\"Accuracy: {accuracy}\")\n",
    "print(f\"Precision: {precision}\")\n",
    "print(f\"Recall: {recall}\")\n",
    "print(f\"F1 Score: {f1}\")"
   ]
  },
  {
   "cell_type": "markdown",
   "id": "7700ab5a-3845-40ae-a258-d4c90c9bdd5c",
   "metadata": {},
   "source": [
    "# SAVING THE MODEL"
   ]
  },
  {
   "cell_type": "code",
   "execution_count": 12,
   "id": "311c89f2-c95f-4a3c-a23b-a0f75f357e8a",
   "metadata": {},
   "outputs": [
    {
     "name": "stdout",
     "output_type": "stream",
     "text": [
      "Trained model saved to lr_trained_model.pkl\n"
     ]
    }
   ],
   "source": [
    "with open('lr_trained_model.pkl', 'wb') as f:\n",
    "    pickle.dump(lr_model, f)\n",
    "\n",
    "print(\"Trained model saved to lr_trained_model.pkl\")"
   ]
  },
  {
   "cell_type": "code",
   "execution_count": null,
   "id": "dc6f2761-595c-425a-8325-cc05ffcc6b4f",
   "metadata": {},
   "outputs": [],
   "source": []
  }
 ],
 "metadata": {
  "kernelspec": {
   "display_name": "Python 3 (ipykernel)",
   "language": "python",
   "name": "python3"
  },
  "language_info": {
   "codemirror_mode": {
    "name": "ipython",
    "version": 3
   },
   "file_extension": ".py",
   "mimetype": "text/x-python",
   "name": "python",
   "nbconvert_exporter": "python",
   "pygments_lexer": "ipython3",
   "version": "3.10.7"
  }
 },
 "nbformat": 4,
 "nbformat_minor": 5
}
