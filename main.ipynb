{
 "cells": [
  {
   "cell_type": "markdown",
   "id": "6b38cdbf-d441-447e-b920-5f0ddd456666",
   "metadata": {},
   "source": [
    "# IMPORTING LIBRARIES"
   ]
  },
  {
   "cell_type": "code",
   "execution_count": 1,
   "id": "f0dc2bb0-93db-4273-a0ac-d8a3126a4676",
   "metadata": {},
   "outputs": [],
   "source": [
    "import googlemaps\n",
    "import pandas as pd\n",
    "import pickle\n",
    "from geopy.geocoders import Nominatim"
   ]
  },
  {
   "cell_type": "markdown",
   "id": "ea25a62b-3d93-43f6-95f6-acfb02dd9dc7",
   "metadata": {},
   "source": [
    "# FUNTION FOR GETTING VILLAGE COORDINATES"
   ]
  },
  {
   "cell_type": "code",
   "execution_count": 2,
   "id": "062ebcc6-96b8-48f9-98d6-8ea84bdd3de8",
   "metadata": {},
   "outputs": [],
   "source": [
    "def get_village_coordinates(village_name, mandal_name, district_name, state_name):\n",
    "    \n",
    "    try:\n",
    "        # Initialize the geolocator with a custom user agent\n",
    "        geolocator = Nominatim(user_agent=\"my_geocoder\")\n",
    "        # Use the geolocator to find the location based on the village and state name\n",
    "        location = geolocator.geocode(f\"{village_name}, {mandal_name}, {district_name}, {state_name}, India\") \n",
    "        if location:\n",
    "            return location.latitude, location.longitude\n",
    "        else:\n",
    "            return None \n",
    "    except Exception as e:\n",
    "        print(f\"An error occurred: {e}\")\n",
    "        return None"
   ]
  },
  {
   "cell_type": "markdown",
   "id": "9fa18d94-a2cd-4fe9-9bc5-6a033fea59ca",
   "metadata": {},
   "source": [
    "# FUNCTION FOR GETTING VILLAGE INFRASTRUCTURE DETAILS"
   ]
  },
  {
   "cell_type": "code",
   "execution_count": 3,
   "id": "cce97c9b-2b7a-4097-8e0e-e8cb569eadd7",
   "metadata": {},
   "outputs": [],
   "source": [
    "def get_village_infrastructure_details(coordinates, api_key):\n",
    "    \n",
    "    # Initialize Google Maps client\n",
    "    gmaps = googlemaps.Client(key=api_key)\n",
    "    \n",
    "    # Extract latitude and longitude\n",
    "    latitude = coordinates[0]\n",
    "    longitude = coordinates[1]\n",
    "    \n",
    "    # Define needed infrastructure and their respective keywords\n",
    "    needed_infrastructure = ['library', 'primary_school', 'secondary_school', 'college', 'atm', 'supermarket', \n",
    "                              'panchayat_office', 'post_office', 'hospital', 'bus_stop', 'common_service_center']\n",
    "    \n",
    "    infrastructure_keywords = {\n",
    "        'primary_school': 'elementary school|mpp|government primary|state board school|cbse school|mandal parishad|govt primary',\n",
    "        'secondary_school': 'middle school|zph|government high|high school|state board school|zp high|zilla parishad|cbse school|govt high',\n",
    "        'college': 'junior college|government junior|jr college|govt jr|govt junior',\n",
    "        'supermarket': 'supermarket|super market|grocery store|hyper store',\n",
    "        'panchayat_office': 'panchayat|sachivalayam',\n",
    "        'post_office': 'post office',\n",
    "        'bus_stop': 'bus stop|bus stand',\n",
    "        'common_service_center': 'csc|common'\n",
    "    }\n",
    "    \n",
    "    # Initialize the results dictionary\n",
    "    infras_results = {}\n",
    "    \n",
    "    # Check for each infrastructure\n",
    "    for infras in needed_infrastructure:\n",
    "        try:\n",
    "            if infras in infrastructure_keywords:\n",
    "                places = gmaps.places_nearby(\n",
    "                    location=(latitude, longitude), \n",
    "                    radius=1200, \n",
    "                    keyword=infrastructure_keywords[infras]\n",
    "                )\n",
    "            else:\n",
    "                places = gmaps.places_nearby(\n",
    "                    location=(latitude, longitude), \n",
    "                    radius=1200, \n",
    "                    type=infras\n",
    "                )\n",
    "            print(infras,\"\\n\",places['results'])\n",
    "            # Update results with 1 if results are found, otherwise 0\n",
    "            infras_results[infras] = 1 if places['results'] else 0\n",
    "        \n",
    "        except Exception as e:\n",
    "            # Log the exception and mark as not found\n",
    "            print(f\"Error checking {infras}: {e}\")\n",
    "            infras_results[infras] = 0\n",
    "    \n",
    "    return infras_results"
   ]
  },
  {
   "cell_type": "markdown",
   "id": "7b15de39-44a9-4642-9ec4-e6761fb9161b",
   "metadata": {},
   "source": [
    "# PREDICTING NEEDED INFRASTRUCTURE FOR THE VILLAGE"
   ]
  },
  {
   "cell_type": "code",
   "execution_count": 4,
   "id": "ab0c0214-c9ea-43df-a16e-3d99056d8b54",
   "metadata": {},
   "outputs": [
    {
     "name": "stdin",
     "output_type": "stream",
     "text": [
      "Enter your village name:  Akkurada\n",
      "Enter your mandal name:  Jalumuru\n",
      "Enter your district name:  Srikakulam\n",
      "Enter your state name:  Andhra Pradesh\n"
     ]
    },
    {
     "name": "stdout",
     "output_type": "stream",
     "text": [
      "library \n",
      " []\n",
      "primary_school \n",
      " []\n",
      "secondary_school \n",
      " []\n",
      "college \n",
      " []\n",
      "atm \n",
      " []\n",
      "supermarket \n",
      " []\n",
      "panchayat_office \n",
      " [{'business_status': 'OPERATIONAL', 'geometry': {'location': {'lat': 18.5175284, 'lng': 83.9956703}, 'viewport': {'northeast': {'lat': 18.51883517989272, 'lng': 83.99702992989272}, 'southwest': {'lat': 18.51613552010728, 'lng': 83.99433027010727}}}, 'icon': 'https://maps.gstatic.com/mapfiles/place_api/icons/v1/png_71/civic_building-71.png', 'icon_background_color': '#7B9EB0', 'icon_mask_base_uri': 'https://maps.gstatic.com/mapfiles/place_api/icons/v2/civic-bldg_pinlet', 'name': 'Grama sachivalayam', 'opening_hours': {}, 'place_id': 'ChIJ-VoiStBDPDoRwWHc4k43ckM', 'rating': 0, 'reference': 'ChIJ-VoiStBDPDoRwWHc4k43ckM', 'scope': 'GOOGLE', 'types': ['point_of_interest', 'establishment'], 'user_ratings_total': 0, 'vicinity': 'GX9W+277, Akkurada'}]\n",
      "post_office \n",
      " []\n",
      "hospital \n",
      " [{'business_status': 'OPERATIONAL', 'geometry': {'location': {'lat': 18.5246503, 'lng': 83.99335719999999}, 'viewport': {'northeast': {'lat': 18.5259572302915, 'lng': 83.99475533029151}, 'southwest': {'lat': 18.5232592697085, 'lng': 83.9920573697085}}}, 'icon': 'https://maps.gstatic.com/mapfiles/place_api/icons/v1/png_71/hospital-71.png', 'icon_background_color': '#F88181', 'icon_mask_base_uri': 'https://maps.gstatic.com/mapfiles/place_api/icons/v2/hospital-H_pinlet', 'name': 'Ayurveda Bones specialist', 'opening_hours': {'open_now': True}, 'photos': [{'height': 4000, 'html_attributions': ['<a href=\"https://maps.google.com/maps/contrib/115693955291027873004\">Srinivasarao Moyyi (MSR)</a>'], 'photo_reference': 'AVzFdbl7GQ80OBIZckCQnf2kZpCtRtYczlERxPwu0XJeb2Aoc9IkxZ2F44q4lZllh3xXrC0wATZxpYOYGE_UigS9GVYHseiTE33xilMguk0nNfvHaNPb8ofG1xkbjYPduw_CFTn55dhaiAG0lSqk-Ja3F2LR1VEmv3gk08gQyjOh5_FOf4XH5ZVp_3fU', 'width': 3000}], 'place_id': 'ChIJPegrHV1dPDoRd5hnPiGODbc', 'rating': 5, 'reference': 'ChIJPegrHV1dPDoRd5hnPiGODbc', 'scope': 'GOOGLE', 'types': ['hospital', 'health', 'point_of_interest', 'establishment'], 'user_ratings_total': 3, 'vicinity': 'GXFV+V89, Akkurada'}]\n",
      "bus_stop \n",
      " []\n",
      "common_service_center \n",
      " []\n",
      "Needed infrastructure: library, primary_school, secondary_school, college, atm, supermarket, post_office, bus_stop, common_service_center\n"
     ]
    },
    {
     "name": "stderr",
     "output_type": "stream",
     "text": [
      "C:\\Users\\Saikiran Rai\\AppData\\Local\\Programs\\Python\\Python310\\lib\\site-packages\\sklearn\\base.py:464: UserWarning: X does not have valid feature names, but RandomForestClassifier was fitted with feature names\n",
      "  warnings.warn(\n"
     ]
    }
   ],
   "source": [
    "village= input(\"Enter your village name: \")\n",
    "mandal= input(\"Enter your mandal name: \")\n",
    "district= input(\"Enter your district name: \")\n",
    "state= input(\"Enter your state name: \")\n",
    "village_coordinates= get_village_coordinates(village, mandal, district, state)\n",
    "api_key= \"YOUR-API-KEY\"\n",
    "infrastructure_found_in_village= get_village_infrastructure_details(village_coordinates, api_key)\n",
    "\n",
    "# list of infrastructure details with binary representation\n",
    "features= list(infrastructure_found_in_village.values())\n",
    "\n",
    "# Load the trained model\n",
    "with open('rftrained_model.pkl', 'rb') as f:\n",
    "  trained_model = pickle.load(f)\n",
    "\n",
    "all_infrastructure = ['library', 'primary_school', 'secondary_school', 'college', 'atm', 'supermarket', \n",
    "                    'panchayat_office', 'post_office', 'hospital', 'bus_stop', 'common_service_center'] \n",
    "\n",
    "# Predict the development level\n",
    "predicted_development = trained_model.predict([features])[0]\n",
    "\n",
    "if predicted_development == 1:  # Fully developed\n",
    "    print(\"No need of any infrastructure\")\n",
    "else:\n",
    "    needed_infrastructure = []\n",
    "    for i, infra in enumerate(all_infrastructure):\n",
    "        if features[i] == 0:\n",
    "            needed_infrastructure.append(infra)\n",
    "    print(f\"Needed infrastructure: {', '.join(needed_infrastructure)}\")"
   ]
  },
  {
   "cell_type": "code",
   "execution_count": null,
   "id": "baf213ab-8c2f-43da-9f83-a366beceb32a",
   "metadata": {},
   "outputs": [],
   "source": []
  }
 ],
 "metadata": {
  "kernelspec": {
   "display_name": "Python 3 (ipykernel)",
   "language": "python",
   "name": "python3"
  },
  "language_info": {
   "codemirror_mode": {
    "name": "ipython",
    "version": 3
   },
   "file_extension": ".py",
   "mimetype": "text/x-python",
   "name": "python",
   "nbconvert_exporter": "python",
   "pygments_lexer": "ipython3",
   "version": "3.10.7"
  }
 },
 "nbformat": 4,
 "nbformat_minor": 5
}
