{
 "cells": [
  {
   "cell_type": "markdown",
   "id": "c6aaae0b-a300-47e4-aff8-e4431ca6a2ec",
   "metadata": {},
   "source": [
    "# IMPORTING LIBRARIES"
   ]
  },
  {
   "cell_type": "code",
   "execution_count": 1,
   "id": "37fc7db6-a845-4224-bc10-3b31ada6da2c",
   "metadata": {},
   "outputs": [],
   "source": [
    "import pandas as pd\n",
    "from sklearn.model_selection import train_test_split\n",
    "from sklearn.ensemble import RandomForestClassifier\n",
    "from sklearn.metrics import accuracy_score, precision_score, recall_score, f1_score\n",
    "import pickle"
   ]
  },
  {
   "cell_type": "markdown",
   "id": "a0b00667-fd05-45d8-9a6d-6c18d1eae5c6",
   "metadata": {},
   "source": [
    "# GETTING DATA FROM DATASET"
   ]
  },
  {
   "cell_type": "code",
   "execution_count": 2,
   "id": "bec4d689-761b-4cb5-bac1-c02270858057",
   "metadata": {},
   "outputs": [
    {
     "data": {
      "text/html": [
       "<div>\n",
       "<style scoped>\n",
       "    .dataframe tbody tr th:only-of-type {\n",
       "        vertical-align: middle;\n",
       "    }\n",
       "\n",
       "    .dataframe tbody tr th {\n",
       "        vertical-align: top;\n",
       "    }\n",
       "\n",
       "    .dataframe thead th {\n",
       "        text-align: right;\n",
       "    }\n",
       "</style>\n",
       "<table border=\"1\" class=\"dataframe\">\n",
       "  <thead>\n",
       "    <tr style=\"text-align: right;\">\n",
       "      <th></th>\n",
       "      <th>library</th>\n",
       "      <th>primary_school</th>\n",
       "      <th>secondary_school</th>\n",
       "      <th>college</th>\n",
       "      <th>atm</th>\n",
       "      <th>supermarket</th>\n",
       "      <th>panchayat_office</th>\n",
       "      <th>post_office</th>\n",
       "      <th>hospital</th>\n",
       "      <th>bus_stop</th>\n",
       "      <th>common_service_center</th>\n",
       "      <th>weighted_development_score</th>\n",
       "      <th>developed</th>\n",
       "    </tr>\n",
       "  </thead>\n",
       "  <tbody>\n",
       "    <tr>\n",
       "      <th>0</th>\n",
       "      <td>1</td>\n",
       "      <td>1</td>\n",
       "      <td>1</td>\n",
       "      <td>1</td>\n",
       "      <td>1</td>\n",
       "      <td>1</td>\n",
       "      <td>1</td>\n",
       "      <td>1</td>\n",
       "      <td>1</td>\n",
       "      <td>1</td>\n",
       "      <td>1</td>\n",
       "      <td>100.000000</td>\n",
       "      <td>1</td>\n",
       "    </tr>\n",
       "    <tr>\n",
       "      <th>1</th>\n",
       "      <td>0</td>\n",
       "      <td>0</td>\n",
       "      <td>0</td>\n",
       "      <td>1</td>\n",
       "      <td>1</td>\n",
       "      <td>1</td>\n",
       "      <td>0</td>\n",
       "      <td>0</td>\n",
       "      <td>1</td>\n",
       "      <td>1</td>\n",
       "      <td>1</td>\n",
       "      <td>52.941176</td>\n",
       "      <td>0</td>\n",
       "    </tr>\n",
       "    <tr>\n",
       "      <th>2</th>\n",
       "      <td>1</td>\n",
       "      <td>1</td>\n",
       "      <td>0</td>\n",
       "      <td>0</td>\n",
       "      <td>1</td>\n",
       "      <td>1</td>\n",
       "      <td>0</td>\n",
       "      <td>0</td>\n",
       "      <td>1</td>\n",
       "      <td>0</td>\n",
       "      <td>0</td>\n",
       "      <td>47.058824</td>\n",
       "      <td>0</td>\n",
       "    </tr>\n",
       "    <tr>\n",
       "      <th>3</th>\n",
       "      <td>1</td>\n",
       "      <td>1</td>\n",
       "      <td>1</td>\n",
       "      <td>1</td>\n",
       "      <td>1</td>\n",
       "      <td>1</td>\n",
       "      <td>1</td>\n",
       "      <td>1</td>\n",
       "      <td>1</td>\n",
       "      <td>1</td>\n",
       "      <td>1</td>\n",
       "      <td>100.000000</td>\n",
       "      <td>1</td>\n",
       "    </tr>\n",
       "    <tr>\n",
       "      <th>4</th>\n",
       "      <td>0</td>\n",
       "      <td>1</td>\n",
       "      <td>1</td>\n",
       "      <td>0</td>\n",
       "      <td>1</td>\n",
       "      <td>1</td>\n",
       "      <td>1</td>\n",
       "      <td>1</td>\n",
       "      <td>0</td>\n",
       "      <td>1</td>\n",
       "      <td>1</td>\n",
       "      <td>76.470588</td>\n",
       "      <td>1</td>\n",
       "    </tr>\n",
       "  </tbody>\n",
       "</table>\n",
       "</div>"
      ],
      "text/plain": [
       "   library  primary_school  secondary_school  college  atm  supermarket  \\\n",
       "0        1               1                 1        1    1            1   \n",
       "1        0               0                 0        1    1            1   \n",
       "2        1               1                 0        0    1            1   \n",
       "3        1               1                 1        1    1            1   \n",
       "4        0               1                 1        0    1            1   \n",
       "\n",
       "   panchayat_office  post_office  hospital  bus_stop  common_service_center  \\\n",
       "0                 1            1         1         1                      1   \n",
       "1                 0            0         1         1                      1   \n",
       "2                 0            0         1         0                      0   \n",
       "3                 1            1         1         1                      1   \n",
       "4                 1            1         0         1                      1   \n",
       "\n",
       "   weighted_development_score  developed  \n",
       "0                  100.000000          1  \n",
       "1                   52.941176          0  \n",
       "2                   47.058824          0  \n",
       "3                  100.000000          1  \n",
       "4                   76.470588          1  "
      ]
     },
     "execution_count": 2,
     "metadata": {},
     "output_type": "execute_result"
    }
   ],
   "source": [
    "dataset= pd.read_csv(\"Village_infras.csv\")\n",
    "dataset.head()"
   ]
  },
  {
   "cell_type": "markdown",
   "id": "3af8eebb-0181-48fc-9d07-288af2190fb0",
   "metadata": {},
   "source": [
    "# SELECTING TARGET VARIBALE"
   ]
  },
  {
   "cell_type": "code",
   "execution_count": 3,
   "id": "15637376-7978-4a22-8cef-99b753e3fe01",
   "metadata": {},
   "outputs": [],
   "source": [
    "X= dataset.drop(columns= [\"weighted_development_score\", \"developed\"])\n",
    "y= dataset[\"developed\"]"
   ]
  },
  {
   "cell_type": "markdown",
   "id": "19649d45-8a2b-4330-ba8b-7c321f5d10e3",
   "metadata": {},
   "source": [
    "# SPLITTING TRAINING AND TESTING DATA"
   ]
  },
  {
   "cell_type": "code",
   "execution_count": 4,
   "id": "dc8b0b14-8c37-4301-ae2b-1090ea18fd43",
   "metadata": {},
   "outputs": [],
   "source": [
    "X_train, X_test, y_train, y_test = train_test_split(X, y, test_size=0.2, random_state=42, stratify=y)"
   ]
  },
  {
   "cell_type": "code",
   "execution_count": 5,
   "id": "79612122-cd99-4ad1-a0e6-bc7086ec38f1",
   "metadata": {},
   "outputs": [
    {
     "data": {
      "text/html": [
       "<div>\n",
       "<style scoped>\n",
       "    .dataframe tbody tr th:only-of-type {\n",
       "        vertical-align: middle;\n",
       "    }\n",
       "\n",
       "    .dataframe tbody tr th {\n",
       "        vertical-align: top;\n",
       "    }\n",
       "\n",
       "    .dataframe thead th {\n",
       "        text-align: right;\n",
       "    }\n",
       "</style>\n",
       "<table border=\"1\" class=\"dataframe\">\n",
       "  <thead>\n",
       "    <tr style=\"text-align: right;\">\n",
       "      <th></th>\n",
       "      <th>library</th>\n",
       "      <th>primary_school</th>\n",
       "      <th>secondary_school</th>\n",
       "      <th>college</th>\n",
       "      <th>atm</th>\n",
       "      <th>supermarket</th>\n",
       "      <th>panchayat_office</th>\n",
       "      <th>post_office</th>\n",
       "      <th>hospital</th>\n",
       "      <th>bus_stop</th>\n",
       "      <th>common_service_center</th>\n",
       "    </tr>\n",
       "  </thead>\n",
       "  <tbody>\n",
       "    <tr>\n",
       "      <th>988</th>\n",
       "      <td>1</td>\n",
       "      <td>1</td>\n",
       "      <td>0</td>\n",
       "      <td>0</td>\n",
       "      <td>0</td>\n",
       "      <td>1</td>\n",
       "      <td>1</td>\n",
       "      <td>0</td>\n",
       "      <td>0</td>\n",
       "      <td>0</td>\n",
       "      <td>0</td>\n",
       "    </tr>\n",
       "    <tr>\n",
       "      <th>6357</th>\n",
       "      <td>0</td>\n",
       "      <td>1</td>\n",
       "      <td>1</td>\n",
       "      <td>1</td>\n",
       "      <td>1</td>\n",
       "      <td>0</td>\n",
       "      <td>1</td>\n",
       "      <td>1</td>\n",
       "      <td>1</td>\n",
       "      <td>1</td>\n",
       "      <td>0</td>\n",
       "    </tr>\n",
       "    <tr>\n",
       "      <th>1947</th>\n",
       "      <td>1</td>\n",
       "      <td>0</td>\n",
       "      <td>1</td>\n",
       "      <td>0</td>\n",
       "      <td>1</td>\n",
       "      <td>0</td>\n",
       "      <td>0</td>\n",
       "      <td>0</td>\n",
       "      <td>0</td>\n",
       "      <td>1</td>\n",
       "      <td>0</td>\n",
       "    </tr>\n",
       "    <tr>\n",
       "      <th>12696</th>\n",
       "      <td>0</td>\n",
       "      <td>1</td>\n",
       "      <td>1</td>\n",
       "      <td>0</td>\n",
       "      <td>0</td>\n",
       "      <td>1</td>\n",
       "      <td>1</td>\n",
       "      <td>1</td>\n",
       "      <td>0</td>\n",
       "      <td>1</td>\n",
       "      <td>1</td>\n",
       "    </tr>\n",
       "    <tr>\n",
       "      <th>12694</th>\n",
       "      <td>0</td>\n",
       "      <td>0</td>\n",
       "      <td>1</td>\n",
       "      <td>1</td>\n",
       "      <td>0</td>\n",
       "      <td>1</td>\n",
       "      <td>0</td>\n",
       "      <td>0</td>\n",
       "      <td>1</td>\n",
       "      <td>0</td>\n",
       "      <td>0</td>\n",
       "    </tr>\n",
       "  </tbody>\n",
       "</table>\n",
       "</div>"
      ],
      "text/plain": [
       "       library  primary_school  secondary_school  college  atm  supermarket  \\\n",
       "988          1               1                 0        0    0            1   \n",
       "6357         0               1                 1        1    1            0   \n",
       "1947         1               0                 1        0    1            0   \n",
       "12696        0               1                 1        0    0            1   \n",
       "12694        0               0                 1        1    0            1   \n",
       "\n",
       "       panchayat_office  post_office  hospital  bus_stop  \\\n",
       "988                   1            0         0         0   \n",
       "6357                  1            1         1         1   \n",
       "1947                  0            0         0         1   \n",
       "12696                 1            1         0         1   \n",
       "12694                 0            0         1         0   \n",
       "\n",
       "       common_service_center  \n",
       "988                        0  \n",
       "6357                       0  \n",
       "1947                       0  \n",
       "12696                      1  \n",
       "12694                      0  "
      ]
     },
     "execution_count": 5,
     "metadata": {},
     "output_type": "execute_result"
    }
   ],
   "source": [
    "X_test.head()"
   ]
  },
  {
   "cell_type": "markdown",
   "id": "b45529bb-3a82-4a2d-b42e-8f46adf2e16c",
   "metadata": {},
   "source": [
    "# DEFINING, FITTING AND PREDICTING RANDOM FOREST MODEL"
   ]
  },
  {
   "cell_type": "code",
   "execution_count": 6,
   "id": "a4ca52f9-7b79-453e-88aa-78c51777d340",
   "metadata": {},
   "outputs": [],
   "source": [
    "rf_model= RandomForestClassifier(n_estimators=50, max_depth=7, min_samples_split=10, random_state=42)"
   ]
  },
  {
   "cell_type": "code",
   "execution_count": 8,
   "id": "0914c48b-0849-453a-bd36-a4974783ee9c",
   "metadata": {},
   "outputs": [
    {
     "data": {
      "text/plain": [
       "array([0, 1, 0, ..., 0, 0, 0], dtype=int64)"
      ]
     },
     "execution_count": 8,
     "metadata": {},
     "output_type": "execute_result"
    }
   ],
   "source": [
    "rf_model.fit(X_train, y_train)\n",
    "rf_preds= rf_model.predict(X_test)\n",
    "rf_preds"
   ]
  },
  {
   "cell_type": "markdown",
   "id": "99566d0c-e695-4a98-b437-acce1944765c",
   "metadata": {},
   "source": [
    "# EVALUATING MODEL"
   ]
  },
  {
   "cell_type": "code",
   "execution_count": 9,
   "id": "38909fad-5add-4296-913e-2027fde5c173",
   "metadata": {},
   "outputs": [
    {
     "name": "stdout",
     "output_type": "stream",
     "text": [
      "Accuracy: 0.96025\n",
      "Precision: 0.9905138339920949\n",
      "Recall: 0.895\n",
      "F1 Score: 0.9403377110694184\n"
     ]
    }
   ],
   "source": [
    "accuracy = accuracy_score(y_test, rf_preds)\n",
    "precision = precision_score(y_test, rf_preds)\n",
    "recall = recall_score(y_test, rf_preds)\n",
    "f1 = f1_score(y_test, rf_preds)\n",
    "\n",
    "print(f\"Accuracy: {accuracy}\")\n",
    "print(f\"Precision: {precision}\")\n",
    "print(f\"Recall: {recall}\")\n",
    "print(f\"F1 Score: {f1}\")"
   ]
  },
  {
   "cell_type": "markdown",
   "id": "6a9107da-6067-4d5f-b4c4-898bc702788f",
   "metadata": {},
   "source": [
    "# SAVING THE MODEL"
   ]
  },
  {
   "cell_type": "code",
   "execution_count": 10,
   "id": "cbd7d350-9a12-4c9b-8b65-0e5c38738df2",
   "metadata": {},
   "outputs": [
    {
     "name": "stdout",
     "output_type": "stream",
     "text": [
      "Trained model saved to rf_trained_model.pkl\n"
     ]
    }
   ],
   "source": [
    "with open('rf_trained_model.pkl', 'wb') as f:\n",
    "    pickle.dump(rf_model, f)\n",
    "\n",
    "print(\"Trained model saved to rf_trained_model.pkl\")"
   ]
  },
  {
   "cell_type": "code",
   "execution_count": null,
   "id": "96846a27-25f9-4af2-95b4-299b18194c7c",
   "metadata": {},
   "outputs": [],
   "source": []
  }
 ],
 "metadata": {
  "kernelspec": {
   "display_name": "Python 3 (ipykernel)",
   "language": "python",
   "name": "python3"
  },
  "language_info": {
   "codemirror_mode": {
    "name": "ipython",
    "version": 3
   },
   "file_extension": ".py",
   "mimetype": "text/x-python",
   "name": "python",
   "nbconvert_exporter": "python",
   "pygments_lexer": "ipython3",
   "version": "3.10.7"
  }
 },
 "nbformat": 4,
 "nbformat_minor": 5
}
